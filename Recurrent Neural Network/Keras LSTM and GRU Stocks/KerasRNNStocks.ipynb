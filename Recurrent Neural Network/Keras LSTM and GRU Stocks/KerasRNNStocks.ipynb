{
  "nbformat": 4,
  "nbformat_minor": 0,
  "metadata": {
    "colab": {
      "name": "KerasRNNStocks.ipynb",
      "provenance": []
    },
    "kernelspec": {
      "name": "python3",
      "display_name": "Python 3"
    },
    "language_info": {
      "name": "python"
    }
  },
  "cells": [
    {
      "cell_type": "markdown",
      "metadata": {
        "id": "PlZrNX7gfvpK"
      },
      "source": [
        "Data loading"
      ]
    },
    {
      "cell_type": "code",
      "metadata": {
        "colab": {
          "resources": {
            "http://localhost:8080/nbextensions/google.colab/files.js": {
              "data": "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",
              "ok": true,
              "headers": [
                [
                  "content-type",
                  "application/javascript"
                ]
              ],
              "status": 200,
              "status_text": ""
            }
          },
          "base_uri": "https://localhost:8080/",
          "height": 73
        },
        "id": "Smr2cvPifvNa",
        "outputId": "1c80fb11-914c-4b51-cd80-426069590d95"
      },
      "source": [
        "from google.colab import files\n",
        "uploaded = files.upload()"
      ],
      "execution_count": 87,
      "outputs": [
        {
          "output_type": "display_data",
          "data": {
            "text/html": [
              "\n",
              "     <input type=\"file\" id=\"files-10f271e1-001c-4af4-a0ed-b27e2a27b7aa\" name=\"files[]\" multiple disabled\n",
              "        style=\"border:none\" />\n",
              "     <output id=\"result-10f271e1-001c-4af4-a0ed-b27e2a27b7aa\">\n",
              "      Upload widget is only available when the cell has been executed in the\n",
              "      current browser session. Please rerun this cell to enable.\n",
              "      </output>\n",
              "      <script src=\"/nbextensions/google.colab/files.js\"></script> "
            ],
            "text/plain": [
              "<IPython.core.display.HTML object>"
            ]
          },
          "metadata": {
            "tags": []
          }
        },
        {
          "output_type": "stream",
          "text": [
            "Saving D&O.csv to D&O (1).csv\n"
          ],
          "name": "stdout"
        }
      ]
    },
    {
      "cell_type": "markdown",
      "metadata": {
        "id": "yd7H9Z-zfz4F"
      },
      "source": [
        "Load libraries"
      ]
    },
    {
      "cell_type": "code",
      "metadata": {
        "id": "E8w5LKx5fuQr"
      },
      "source": [
        "import numpy as np\n",
        "import io\n",
        "import matplotlib.pyplot as plt\n",
        "plt.style.use('fivethirtyeight')\n",
        "import pandas as pd\n",
        "from sklearn.preprocessing import MinMaxScaler\n",
        "from keras.models import Sequential\n",
        "from keras.layers import Dense, LSTM, Dropout, GRU, Bidirectional\n",
        "from keras.optimizers import SGD\n",
        "import math\n",
        "from sklearn.metrics import mean_squared_error\n",
        "\n",
        "import warnings\n",
        "warnings.filterwarnings('ignore')"
      ],
      "execution_count": 88,
      "outputs": []
    },
    {
      "cell_type": "code",
      "metadata": {
        "colab": {
          "base_uri": "https://localhost:8080/",
          "height": 428
        },
        "id": "2ZtvqLd_f_rf",
        "outputId": "5ef8e7bc-5382-4f1f-9b2c-dbbeaf999ec7"
      },
      "source": [
        "df = pd.read_csv(io.BytesIO(uploaded['D&O.csv']), index_col='Date', parse_dates=['Date'])\n",
        "df"
      ],
      "execution_count": 7,
      "outputs": [
        {
          "output_type": "execute_result",
          "data": {
            "text/html": [
              "<div>\n",
              "<style scoped>\n",
              "    .dataframe tbody tr th:only-of-type {\n",
              "        vertical-align: middle;\n",
              "    }\n",
              "\n",
              "    .dataframe tbody tr th {\n",
              "        vertical-align: top;\n",
              "    }\n",
              "\n",
              "    .dataframe thead th {\n",
              "        text-align: right;\n",
              "    }\n",
              "</style>\n",
              "<table border=\"1\" class=\"dataframe\">\n",
              "  <thead>\n",
              "    <tr style=\"text-align: right;\">\n",
              "      <th></th>\n",
              "      <th>Open</th>\n",
              "      <th>High</th>\n",
              "      <th>Low</th>\n",
              "      <th>Close</th>\n",
              "      <th>Adj Close</th>\n",
              "      <th>Volume</th>\n",
              "    </tr>\n",
              "    <tr>\n",
              "      <th>Date</th>\n",
              "      <th></th>\n",
              "      <th></th>\n",
              "      <th></th>\n",
              "      <th></th>\n",
              "      <th></th>\n",
              "      <th></th>\n",
              "    </tr>\n",
              "  </thead>\n",
              "  <tbody>\n",
              "    <tr>\n",
              "      <th>2004-12-28</th>\n",
              "      <td>0.390</td>\n",
              "      <td>0.495</td>\n",
              "      <td>0.390</td>\n",
              "      <td>0.46</td>\n",
              "      <td>0.425383</td>\n",
              "      <td>77841700.0</td>\n",
              "    </tr>\n",
              "    <tr>\n",
              "      <th>2004-12-29</th>\n",
              "      <td>0.465</td>\n",
              "      <td>0.510</td>\n",
              "      <td>0.460</td>\n",
              "      <td>0.50</td>\n",
              "      <td>0.462373</td>\n",
              "      <td>19786600.0</td>\n",
              "    </tr>\n",
              "    <tr>\n",
              "      <th>2004-12-30</th>\n",
              "      <td>0.500</td>\n",
              "      <td>0.510</td>\n",
              "      <td>0.475</td>\n",
              "      <td>0.48</td>\n",
              "      <td>0.443878</td>\n",
              "      <td>6846700.0</td>\n",
              "    </tr>\n",
              "    <tr>\n",
              "      <th>2004-12-31</th>\n",
              "      <td>0.485</td>\n",
              "      <td>0.510</td>\n",
              "      <td>0.480</td>\n",
              "      <td>0.49</td>\n",
              "      <td>0.453125</td>\n",
              "      <td>8420300.0</td>\n",
              "    </tr>\n",
              "    <tr>\n",
              "      <th>2005-01-03</th>\n",
              "      <td>0.500</td>\n",
              "      <td>0.520</td>\n",
              "      <td>0.485</td>\n",
              "      <td>0.51</td>\n",
              "      <td>0.471620</td>\n",
              "      <td>7385000.0</td>\n",
              "    </tr>\n",
              "    <tr>\n",
              "      <th>...</th>\n",
              "      <td>...</td>\n",
              "      <td>...</td>\n",
              "      <td>...</td>\n",
              "      <td>...</td>\n",
              "      <td>...</td>\n",
              "      <td>...</td>\n",
              "    </tr>\n",
              "    <tr>\n",
              "      <th>2021-05-19</th>\n",
              "      <td>4.350</td>\n",
              "      <td>4.420</td>\n",
              "      <td>4.040</td>\n",
              "      <td>4.11</td>\n",
              "      <td>4.110000</td>\n",
              "      <td>12099800.0</td>\n",
              "    </tr>\n",
              "    <tr>\n",
              "      <th>2021-05-20</th>\n",
              "      <td>4.190</td>\n",
              "      <td>4.330</td>\n",
              "      <td>4.000</td>\n",
              "      <td>4.04</td>\n",
              "      <td>4.040000</td>\n",
              "      <td>9428200.0</td>\n",
              "    </tr>\n",
              "    <tr>\n",
              "      <th>2021-05-21</th>\n",
              "      <td>4.140</td>\n",
              "      <td>4.290</td>\n",
              "      <td>3.920</td>\n",
              "      <td>4.20</td>\n",
              "      <td>4.200000</td>\n",
              "      <td>9529800.0</td>\n",
              "    </tr>\n",
              "    <tr>\n",
              "      <th>2021-05-24</th>\n",
              "      <td>4.240</td>\n",
              "      <td>4.420</td>\n",
              "      <td>4.170</td>\n",
              "      <td>4.40</td>\n",
              "      <td>4.400000</td>\n",
              "      <td>9666000.0</td>\n",
              "    </tr>\n",
              "    <tr>\n",
              "      <th>2021-05-25</th>\n",
              "      <td>4.450</td>\n",
              "      <td>4.500</td>\n",
              "      <td>4.210</td>\n",
              "      <td>4.40</td>\n",
              "      <td>4.400000</td>\n",
              "      <td>12091700.0</td>\n",
              "    </tr>\n",
              "  </tbody>\n",
              "</table>\n",
              "<p>4068 rows × 6 columns</p>\n",
              "</div>"
            ],
            "text/plain": [
              "             Open   High    Low  Close  Adj Close      Volume\n",
              "Date                                                         \n",
              "2004-12-28  0.390  0.495  0.390   0.46   0.425383  77841700.0\n",
              "2004-12-29  0.465  0.510  0.460   0.50   0.462373  19786600.0\n",
              "2004-12-30  0.500  0.510  0.475   0.48   0.443878   6846700.0\n",
              "2004-12-31  0.485  0.510  0.480   0.49   0.453125   8420300.0\n",
              "2005-01-03  0.500  0.520  0.485   0.51   0.471620   7385000.0\n",
              "...           ...    ...    ...    ...        ...         ...\n",
              "2021-05-19  4.350  4.420  4.040   4.11   4.110000  12099800.0\n",
              "2021-05-20  4.190  4.330  4.000   4.04   4.040000   9428200.0\n",
              "2021-05-21  4.140  4.290  3.920   4.20   4.200000   9529800.0\n",
              "2021-05-24  4.240  4.420  4.170   4.40   4.400000   9666000.0\n",
              "2021-05-25  4.450  4.500  4.210   4.40   4.400000  12091700.0\n",
              "\n",
              "[4068 rows x 6 columns]"
            ]
          },
          "metadata": {
            "tags": []
          },
          "execution_count": 7
        }
      ]
    },
    {
      "cell_type": "markdown",
      "metadata": {
        "id": "NIZAJL6BgZvu"
      },
      "source": [
        "Check for missing values"
      ]
    },
    {
      "cell_type": "code",
      "metadata": {
        "colab": {
          "base_uri": "https://localhost:8080/",
          "height": 305
        },
        "id": "aPEho1hHgHQB",
        "outputId": "c5747d81-1f8e-42fe-b20a-47fb38a95cf3"
      },
      "source": [
        "df['High'][:'2020'].plot(figsize=(16,4),legend=True)\n",
        "df['High']['2021':].plot(figsize=(16,4),legend=True)\n",
        "plt.legend(['Train set (Before 2021)', 'Test set (2021)'])\n",
        "plt.title('D&O Share Price')\n",
        "plt.show"
      ],
      "execution_count": 90,
      "outputs": [
        {
          "output_type": "execute_result",
          "data": {
            "text/plain": [
              "<function matplotlib.pyplot.show>"
            ]
          },
          "metadata": {
            "tags": []
          },
          "execution_count": 90
        },
        {
          "output_type": "display_data",
          "data": {
            "image/png": "[encoded data removed]",
            "text/plain": [
              "<Figure size 1152x288 with 1 Axes>"
            ]
          },
          "metadata": {
            "tags": []
          }
        }
      ]
    },
    {
      "cell_type": "code",
      "metadata": {
        "id": "rf8K-5o2gZYC"
      },
      "source": [
        "train = df[:'2020'].iloc[:, 1:2].values\n",
        "test = df['2021':].iloc[:, 1:2].values"
      ],
      "execution_count": 92,
      "outputs": []
    },
    {
      "cell_type": "markdown",
      "metadata": {
        "id": "c-hEH_a1iUpV"
      },
      "source": [
        "Data Preprocessing"
      ]
    },
    {
      "cell_type": "code",
      "metadata": {
        "id": "tK1uMc96iUIN"
      },
      "source": [
        "minMaxScaler = MinMaxScaler(feature_range=(0, 1))\n",
        "train_scaled_dataset = minMaxScaler.fit_transform(train)"
      ],
      "execution_count": 93,
      "outputs": []
    },
    {
      "cell_type": "code",
      "metadata": {
        "id": "t5OkOcOkjNcB"
      },
      "source": [
        "X_train = []\n",
        "y_train = []\n",
        "\n",
        "for i in range(400, 3672):\n",
        "  X_train.append(train_scaled_dataset[i - 400:i, 0])\n",
        "  y_train.append(train_scaled_dataset[i, 0])\n",
        "\n",
        "X_train, y_train = np.array(X_train), np.array(y_train)"
      ],
      "execution_count": 95,
      "outputs": []
    },
    {
      "cell_type": "code",
      "metadata": {
        "id": "FSy88Bh6lX61"
      },
      "source": [
        "X_train = np.reshape(X_train, (X_train.shape[0], X_train.shape[1], 1))"
      ],
      "execution_count": 96,
      "outputs": []
    },
    {
      "cell_type": "markdown",
      "metadata": {
        "id": "dMyghoNpjJEM"
      },
      "source": [
        "### LSTM (Long Short-term Memory)"
      ]
    },
    {
      "cell_type": "code",
      "metadata": {
        "colab": {
          "base_uri": "https://localhost:8080/"
        },
        "id": "yVLtfjfWjIgR",
        "outputId": "f67668da-b50c-40f2-9288-6022354e56cc"
      },
      "source": [
        "regressor = Sequential()\n",
        "\n",
        "regressor.add(LSTM(units=50, return_sequences=True, input_shape=(X_train.shape[1], 1)))\n",
        "regressor.add(Dropout(0.2))\n",
        "\n",
        "regressor.add(LSTM(units=50, return_sequences=True))\n",
        "regressor.add(Dropout(0.2))\n",
        "\n",
        "regressor.add(LSTM(units=50, return_sequences=True))\n",
        "regressor.add(Dropout(0.2))\n",
        "\n",
        "regressor.add(LSTM(units=50))\n",
        "regressor.add(Dropout(0.2))\n",
        "\n",
        "regressor.add(Dense(units=1))\n",
        "regressor.compile(optimizer='rmsprop', loss='mean_squared_error')\n",
        "regressor.fit(X_train, y_train, epochs=50, batch_size=32)"
      ],
      "execution_count": 100,
      "outputs": [
        {
          "output_type": "stream",
          "text": [
            "Epoch 1/50\n",
            "103/103 [==============================] - 89s 788ms/step - loss: 0.0053\n",
            "Epoch 2/50\n",
            "103/103 [==============================] - 82s 792ms/step - loss: 0.0014\n",
            "Epoch 3/50\n",
            "103/103 [==============================] - 82s 797ms/step - loss: 0.0014\n",
            "Epoch 4/50\n",
            "103/103 [==============================] - 83s 802ms/step - loss: 0.0013\n",
            "Epoch 5/50\n",
            "103/103 [==============================] - 82s 793ms/step - loss: 9.2462e-04\n",
            "Epoch 6/50\n",
            "103/103 [==============================] - 82s 794ms/step - loss: 9.7271e-04\n",
            "Epoch 7/50\n",
            "103/103 [==============================] - 81s 783ms/step - loss: 7.8656e-04\n",
            "Epoch 8/50\n",
            "103/103 [==============================] - 82s 792ms/step - loss: 6.8742e-04\n",
            "Epoch 9/50\n",
            "103/103 [==============================] - 83s 805ms/step - loss: 7.6646e-04\n",
            "Epoch 10/50\n",
            "103/103 [==============================] - 82s 800ms/step - loss: 8.9705e-04\n",
            "Epoch 11/50\n",
            "103/103 [==============================] - 78s 755ms/step - loss: 7.6373e-04\n",
            "Epoch 12/50\n",
            "103/103 [==============================] - 78s 757ms/step - loss: 6.1995e-04\n",
            "Epoch 13/50\n",
            "103/103 [==============================] - 78s 759ms/step - loss: 6.9414e-04\n",
            "Epoch 14/50\n",
            "103/103 [==============================] - 79s 764ms/step - loss: 5.6248e-04\n",
            "Epoch 15/50\n",
            "103/103 [==============================] - 79s 768ms/step - loss: 6.3416e-04\n",
            "Epoch 16/50\n",
            "103/103 [==============================] - 78s 761ms/step - loss: 4.9416e-04\n",
            "Epoch 17/50\n",
            "103/103 [==============================] - 79s 763ms/step - loss: 5.8119e-04\n",
            "Epoch 18/50\n",
            "103/103 [==============================] - 78s 757ms/step - loss: 4.9504e-04\n",
            "Epoch 19/50\n",
            "103/103 [==============================] - 78s 760ms/step - loss: 4.2928e-04\n",
            "Epoch 20/50\n",
            "103/103 [==============================] - 78s 759ms/step - loss: 5.1256e-04\n",
            "Epoch 21/50\n",
            "103/103 [==============================] - 79s 770ms/step - loss: 4.3019e-04\n",
            "Epoch 22/50\n",
            "103/103 [==============================] - 81s 787ms/step - loss: 5.1963e-04\n",
            "Epoch 23/50\n",
            "103/103 [==============================] - 79s 768ms/step - loss: 5.6945e-04\n",
            "Epoch 24/50\n",
            "103/103 [==============================] - 79s 770ms/step - loss: 5.1883e-04\n",
            "Epoch 25/50\n",
            "103/103 [==============================] - 78s 761ms/step - loss: 4.4286e-04\n",
            "Epoch 26/50\n",
            "103/103 [==============================] - 78s 757ms/step - loss: 4.5549e-04\n",
            "Epoch 27/50\n",
            "103/103 [==============================] - 78s 758ms/step - loss: 4.6384e-04\n",
            "Epoch 28/50\n",
            "103/103 [==============================] - 78s 757ms/step - loss: 3.5565e-04\n",
            "Epoch 29/50\n",
            "103/103 [==============================] - 78s 757ms/step - loss: 4.2947e-04\n",
            "Epoch 30/50\n",
            "103/103 [==============================] - 78s 760ms/step - loss: 4.1341e-04\n",
            "Epoch 31/50\n",
            "103/103 [==============================] - 78s 760ms/step - loss: 4.3174e-04\n",
            "Epoch 32/50\n",
            "103/103 [==============================] - 78s 757ms/step - loss: 5.3048e-04\n",
            "Epoch 33/50\n",
            "103/103 [==============================] - 78s 757ms/step - loss: 3.3195e-04\n",
            "Epoch 34/50\n",
            "103/103 [==============================] - 78s 760ms/step - loss: 4.9280e-04\n",
            "Epoch 35/50\n",
            "103/103 [==============================] - 78s 757ms/step - loss: 3.2754e-04\n",
            "Epoch 36/50\n",
            "103/103 [==============================] - 78s 758ms/step - loss: 4.6857e-04\n",
            "Epoch 37/50\n",
            "103/103 [==============================] - 78s 759ms/step - loss: 3.8495e-04\n",
            "Epoch 38/50\n",
            "103/103 [==============================] - 78s 755ms/step - loss: 4.2471e-04\n",
            "Epoch 39/50\n",
            "103/103 [==============================] - 78s 755ms/step - loss: 3.9550e-04\n",
            "Epoch 40/50\n",
            "103/103 [==============================] - 78s 753ms/step - loss: 3.8468e-04\n",
            "Epoch 41/50\n",
            "103/103 [==============================] - 78s 761ms/step - loss: 3.0151e-04\n",
            "Epoch 42/50\n",
            "103/103 [==============================] - 79s 762ms/step - loss: 3.6197e-04\n",
            "Epoch 43/50\n",
            "103/103 [==============================] - 82s 792ms/step - loss: 4.5856e-04\n",
            "Epoch 44/50\n",
            "103/103 [==============================] - 78s 761ms/step - loss: 3.5173e-04\n",
            "Epoch 45/50\n",
            "103/103 [==============================] - 79s 764ms/step - loss: 3.0833e-04\n",
            "Epoch 46/50\n",
            "103/103 [==============================] - 79s 767ms/step - loss: 3.2866e-04\n",
            "Epoch 47/50\n",
            "103/103 [==============================] - 78s 761ms/step - loss: 3.0154e-04\n",
            "Epoch 48/50\n",
            "103/103 [==============================] - 78s 761ms/step - loss: 2.7656e-04\n",
            "Epoch 49/50\n",
            "103/103 [==============================] - 78s 759ms/step - loss: 4.6712e-04\n",
            "Epoch 50/50\n",
            "103/103 [==============================] - 79s 762ms/step - loss: 3.4137e-04\n"
          ],
          "name": "stdout"
        },
        {
          "output_type": "execute_result",
          "data": {
            "text/plain": [
              "<keras.callbacks.History at 0x7fdf1eb65250>"
            ]
          },
          "metadata": {
            "tags": []
          },
          "execution_count": 100
        }
      ]
    },
    {
      "cell_type": "code",
      "metadata": {
        "id": "F4fiblmcopmt"
      },
      "source": [
        "df_total = pd.concat((df['High'][:'2020'], df['High']['2021':]), axis=0)\n",
        "inputs = df_total[len(df_total) - len(test) - 400:].values\n",
        "inputs = inputs.reshape(-1, 1)\n",
        "inputs  = minMaxScaler.transform(inputs)"
      ],
      "execution_count": 102,
      "outputs": []
    },
    {
      "cell_type": "code",
      "metadata": {
        "colab": {
          "base_uri": "https://localhost:8080/"
        },
        "id": "h3BYB_TsFw5s",
        "outputId": "b730230f-e497-41c6-f734-29cc7190b5e3"
      },
      "source": [
        "inputs.shape"
      ],
      "execution_count": 103,
      "outputs": [
        {
          "output_type": "execute_result",
          "data": {
            "text/plain": [
              "(496, 1)"
            ]
          },
          "metadata": {
            "tags": []
          },
          "execution_count": 103
        }
      ]
    },
    {
      "cell_type": "code",
      "metadata": {
        "id": "ZwdcEGR8pkB8"
      },
      "source": [
        "X_test = []\n",
        "\n",
        "for i in range(400, 496):\n",
        "  X_test.append(inputs[i - 400:i, 0])\n",
        "\n",
        "X_test = np.array(X_test)\n",
        "X_test = np.reshape(X_test, (X_test.shape[0], X_test.shape[1], 1))\n",
        "predicted_stock_price = regressor.predict(X_test)\n",
        "predicted_stock_price = minMaxScaler.inverse_transform(predicted_stock_price)"
      ],
      "execution_count": 104,
      "outputs": []
    },
    {
      "cell_type": "code",
      "metadata": {
        "id": "pQv8eMx1Dm1h"
      },
      "source": [
        "def plot_predictions(test, predicted):\n",
        "    plt.plot(test, color='red', label='Real D&O Stock Price')\n",
        "    plt.plot(predicted, color='blue', label='Predicted D&O Stock Price')\n",
        "    plt.title('D&O Stock Price Prediction')\n",
        "    plt.xlabel('Time')\n",
        "    plt.ylabel('D&O Stock Price')\n",
        "    plt.legend()\n",
        "    plt.show()\n",
        "\n",
        "def return_rmse(test, predicted):\n",
        "    rmse = math.sqrt(mean_squared_error(test, predicted))\n",
        "    print('The root mean squared error is {}.'.format(rmse))"
      ],
      "execution_count": 70,
      "outputs": []
    },
    {
      "cell_type": "code",
      "metadata": {
        "colab": {
          "base_uri": "https://localhost:8080/",
          "height": 340
        },
        "id": "GODDNSh5EfNQ",
        "outputId": "7122df7b-ba1c-470f-aa0a-918b305cd7b4"
      },
      "source": [
        "plot_predictions(test, predicted_stock_price)"
      ],
      "execution_count": 105,
      "outputs": [
        {
          "output_type": "display_data",
          "data": {
            "image/png": "[encoded data removed]",
            "text/plain": [
              "<Figure size 460.8x316.8 with 1 Axes>"
            ]
          },
          "metadata": {
            "tags": []
          }
        }
      ]
    },
    {
      "cell_type": "code",
      "metadata": {
        "colab": {
          "base_uri": "https://localhost:8080/"
        },
        "id": "lrcWdO4vXlsH",
        "outputId": "dc78faf7-c390-4676-e525-3f0f66229c9a"
      },
      "source": [
        "return_rmse(test, predicted_stock_price)"
      ],
      "execution_count": 107,
      "outputs": [
        {
          "output_type": "stream",
          "text": [
            "The root mean squared error is 0.9038359517876032.\n"
          ],
          "name": "stdout"
        }
      ]
    },
    {
      "cell_type": "markdown",
      "metadata": {
        "id": "O1M3VnZzXxoq"
      },
      "source": [
        "### GRU (Gated Recurrent Units)"
      ]
    },
    {
      "cell_type": "code",
      "metadata": {
        "colab": {
          "base_uri": "https://localhost:8080/"
        },
        "id": "TB24zrV8Xr0o",
        "outputId": "648ba1ef-d1cb-4ee5-840e-6de80a999905"
      },
      "source": [
        "regressorGRU = Sequential()\n",
        "\n",
        "regressorGRU.add(GRU(units=50, return_sequences=True, input_shape=(X_train.shape[1], 1), activation='tanh'))\n",
        "regressorGRU.add(Dropout(0.2))\n",
        "\n",
        "regressorGRU.add(GRU(units=50, return_sequences=True, input_shape=(X_train.shape[1], 1), activation='tanh'))\n",
        "regressorGRU.add(Dropout(0.2))\n",
        "\n",
        "regressorGRU.add(GRU(units=50, return_sequences=True, input_shape=(X_train.shape[1], 1), activation='tanh'))\n",
        "regressorGRU.add(Dropout(0.2))\n",
        "\n",
        "regressorGRU.add(GRU(units=50, activation='tanh'))\n",
        "regressorGRU.add(Dropout(0.2))\n",
        "\n",
        "regressorGRU.add(Dense(units=1))\n",
        "regressorGRU.compile(optimizer=SGD(lr=0.01, decay=1e-7, momentum=0.9, nesterov=False), loss='mean_squared_error')\n",
        "regressorGRU.fit(X_train,y_train,epochs=50,batch_size=150)"
      ],
      "execution_count": 108,
      "outputs": [
        {
          "output_type": "stream",
          "text": [
            "Epoch 1/50\n",
            "22/22 [==============================] - 42s 1s/step - loss: 0.0239\n",
            "Epoch 2/50\n",
            "22/22 [==============================] - 32s 1s/step - loss: 0.0166\n",
            "Epoch 3/50\n",
            "22/22 [==============================] - 32s 1s/step - loss: 0.0122\n",
            "Epoch 4/50\n",
            "22/22 [==============================] - 32s 1s/step - loss: 0.0107\n",
            "Epoch 5/50\n",
            "22/22 [==============================] - 32s 1s/step - loss: 0.0090\n",
            "Epoch 6/50\n",
            "22/22 [==============================] - 33s 1s/step - loss: 0.0073\n",
            "Epoch 7/50\n",
            "22/22 [==============================] - 32s 1s/step - loss: 0.0053\n",
            "Epoch 8/50\n",
            "22/22 [==============================] - 33s 1s/step - loss: 0.0035\n",
            "Epoch 9/50\n",
            "22/22 [==============================] - 32s 1s/step - loss: 0.0021\n",
            "Epoch 10/50\n",
            "22/22 [==============================] - 33s 1s/step - loss: 0.0012\n",
            "Epoch 11/50\n",
            "22/22 [==============================] - 32s 1s/step - loss: 8.0455e-04\n",
            "Epoch 12/50\n",
            "22/22 [==============================] - 33s 1s/step - loss: 7.1762e-04\n",
            "Epoch 13/50\n",
            "22/22 [==============================] - 33s 1s/step - loss: 6.1448e-04\n",
            "Epoch 14/50\n",
            "22/22 [==============================] - 35s 2s/step - loss: 7.9437e-04\n",
            "Epoch 15/50\n",
            "22/22 [==============================] - 34s 2s/step - loss: 6.4324e-04\n",
            "Epoch 16/50\n",
            "22/22 [==============================] - 34s 2s/step - loss: 7.4553e-04\n",
            "Epoch 17/50\n",
            "22/22 [==============================] - 32s 1s/step - loss: 8.2435e-04\n",
            "Epoch 18/50\n",
            "22/22 [==============================] - 33s 1s/step - loss: 6.3260e-04\n",
            "Epoch 19/50\n",
            "22/22 [==============================] - 32s 1s/step - loss: 7.3818e-04\n",
            "Epoch 20/50\n",
            "22/22 [==============================] - 32s 1s/step - loss: 6.7574e-04\n",
            "Epoch 21/50\n",
            "22/22 [==============================] - 32s 1s/step - loss: 5.4691e-04\n",
            "Epoch 22/50\n",
            "22/22 [==============================] - 32s 1s/step - loss: 6.2761e-04\n",
            "Epoch 23/50\n",
            "22/22 [==============================] - 32s 1s/step - loss: 6.9906e-04\n",
            "Epoch 24/50\n",
            "22/22 [==============================] - 32s 1s/step - loss: 6.9281e-04\n",
            "Epoch 25/50\n",
            "22/22 [==============================] - 32s 1s/step - loss: 5.8730e-04\n",
            "Epoch 26/50\n",
            "22/22 [==============================] - 32s 1s/step - loss: 7.0888e-04\n",
            "Epoch 27/50\n",
            "22/22 [==============================] - 32s 1s/step - loss: 5.7308e-04\n",
            "Epoch 28/50\n",
            "22/22 [==============================] - 32s 1s/step - loss: 5.6593e-04\n",
            "Epoch 29/50\n",
            "22/22 [==============================] - 32s 1s/step - loss: 5.5668e-04\n",
            "Epoch 30/50\n",
            "22/22 [==============================] - 32s 1s/step - loss: 6.1480e-04\n",
            "Epoch 31/50\n",
            "22/22 [==============================] - 32s 1s/step - loss: 7.4511e-04\n",
            "Epoch 32/50\n",
            "22/22 [==============================] - 32s 1s/step - loss: 6.1728e-04\n",
            "Epoch 33/50\n",
            "22/22 [==============================] - 33s 1s/step - loss: 6.5082e-04\n",
            "Epoch 34/50\n",
            "22/22 [==============================] - 32s 1s/step - loss: 5.8643e-04\n",
            "Epoch 35/50\n",
            "22/22 [==============================] - 32s 1s/step - loss: 6.6456e-04\n",
            "Epoch 36/50\n",
            "22/22 [==============================] - 32s 1s/step - loss: 7.0164e-04\n",
            "Epoch 37/50\n",
            "22/22 [==============================] - 32s 1s/step - loss: 5.3724e-04\n",
            "Epoch 38/50\n",
            "22/22 [==============================] - 33s 1s/step - loss: 6.4797e-04\n",
            "Epoch 39/50\n",
            "22/22 [==============================] - 32s 1s/step - loss: 5.6704e-04\n",
            "Epoch 40/50\n",
            "22/22 [==============================] - 33s 1s/step - loss: 5.5943e-04\n",
            "Epoch 41/50\n",
            "22/22 [==============================] - 32s 1s/step - loss: 5.7369e-04\n",
            "Epoch 42/50\n",
            "22/22 [==============================] - 33s 1s/step - loss: 5.6446e-04\n",
            "Epoch 43/50\n",
            "22/22 [==============================] - 33s 2s/step - loss: 5.9962e-04\n",
            "Epoch 44/50\n",
            "22/22 [==============================] - 32s 1s/step - loss: 6.4116e-04\n",
            "Epoch 45/50\n",
            "22/22 [==============================] - 32s 1s/step - loss: 5.9803e-04\n",
            "Epoch 46/50\n",
            "22/22 [==============================] - 33s 1s/step - loss: 6.1404e-04\n",
            "Epoch 47/50\n",
            "22/22 [==============================] - 32s 1s/step - loss: 6.6831e-04\n",
            "Epoch 48/50\n",
            "22/22 [==============================] - 33s 1s/step - loss: 5.2980e-04\n",
            "Epoch 49/50\n",
            "22/22 [==============================] - 32s 1s/step - loss: 6.4246e-04\n",
            "Epoch 50/50\n",
            "22/22 [==============================] - 32s 1s/step - loss: 5.9182e-04\n"
          ],
          "name": "stdout"
        },
        {
          "output_type": "execute_result",
          "data": {
            "text/plain": [
              "<keras.callbacks.History at 0x7fdf1c978310>"
            ]
          },
          "metadata": {
            "tags": []
          },
          "execution_count": 108
        }
      ]
    },
    {
      "cell_type": "code",
      "metadata": {
        "id": "9Bydad_BYost"
      },
      "source": [
        "X_test = []\n",
        "\n",
        "for i in range(400, 496):\n",
        "  X_test.append(inputs[i - 400:i, 0])\n",
        "\n",
        "X_test = np.array(X_test)\n",
        "X_test = np.reshape(X_test, (X_test.shape[0], X_test.shape[1], 1))\n",
        "GRU_predicted_stock_price = regressorGRU.predict(X_test)\n",
        "GRU_predicted_stock_price = minMaxScaler.inverse_transform(GRU_predicted_stock_price)"
      ],
      "execution_count": 109,
      "outputs": []
    },
    {
      "cell_type": "code",
      "metadata": {
        "colab": {
          "base_uri": "https://localhost:8080/",
          "height": 340
        },
        "id": "Wkxcx4iVYwqf",
        "outputId": "1e0ac0a2-76df-47b5-e257-f58a7f31eed6"
      },
      "source": [
        "plot_predictions(test, GRU_predicted_stock_price)"
      ],
      "execution_count": 110,
      "outputs": [
        {
          "output_type": "display_data",
          "data": {
            "image/png": "[encoded data removed]",
            "text/plain": [
              "<Figure size 460.8x316.8 with 1 Axes>"
            ]
          },
          "metadata": {
            "tags": []
          }
        }
      ]
    },
    {
      "cell_type": "code",
      "metadata": {
        "colab": {
          "base_uri": "https://localhost:8080/"
        },
        "id": "2hvVA2JzY1DH",
        "outputId": "e15f89dc-1c0f-4a1a-81f1-52668538f639"
      },
      "source": [
        "return_rmse(test, GRU_predicted_stock_price)"
      ],
      "execution_count": 111,
      "outputs": [
        {
          "output_type": "stream",
          "text": [
            "The root mean squared error is 0.6076314319832479.\n"
          ],
          "name": "stdout"
        }
      ]
    }
  ]
}