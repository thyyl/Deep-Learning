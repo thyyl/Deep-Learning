{
  "nbformat": 4,
  "nbformat_minor": 0,
  "metadata": {
    "colab": {
      "name": "KerasModelAveragingEnsemble.ipynb",
      "provenance": []
    },
    "kernelspec": {
      "name": "python3",
      "display_name": "Python 3"
    },
    "language_info": {
      "name": "python"
    }
  },
  "cells": [
    {
      "cell_type": "code",
      "metadata": {
        "id": "pr16vKkUFleA"
      },
      "source": [
        "from sklearn.datasets import make_blobs\n",
        "from sklearn.linear_model import LogisticRegression\n",
        "from sklearn.metrics import accuracy_score\n",
        "\n",
        "from keras.utils import to_categorical\n",
        "from keras.utils import plot_model\n",
        "from keras.models import Sequential\n",
        "from keras.models import load_model\n",
        "from keras.models import Model\n",
        "from keras.layers import Dense\n",
        "from keras.layers.merge import concatenate\n",
        "\n",
        "from matplotlib import pyplot\n",
        "from os import makedirs\n",
        "from numpy import dstack\n",
        "from numpy import argmax\n",
        "from numpy import array\n",
        "from numpy import mean\n",
        "from numpy import std\n",
        "import numpy\n",
        "from numpy import tensordot\n",
        "from numpy.linalg import norm\n",
        "from itertools import product"
      ],
      "execution_count": 1,
      "outputs": []
    },
    {
      "cell_type": "markdown",
      "metadata": {
        "id": "juSW_Bp3GYCw"
      },
      "source": [
        "### Based Line "
      ]
    },
    {
      "cell_type": "code",
      "metadata": {
        "colab": {
          "base_uri": "https://localhost:8080/",
          "height": 283
        },
        "id": "72OWdMP6GWmR",
        "outputId": "d1dad955-1f32-4706-fe4e-a3d34a88669e"
      },
      "source": [
        "X, y = make_blobs(n_samples=1100, centers=3, n_features=2, cluster_std=2, random_state=2)\n",
        "y = to_categorical(y)\n",
        "\n",
        "n_train = 100\n",
        "trainX, testX = X[:n_train, :], X[n_train:, :]\n",
        "trainy, testy = y[:n_train], y[n_train:]\n",
        "\n",
        "model = Sequential()\n",
        "model.add(Dense(25, input_dim=2, activation='relu'))\n",
        "model.add(Dense(3, activation='softmax'))\n",
        "model.compile(loss='categorical_crossentropy', optimizer='adam', metrics=['accuracy'])\n",
        "\n",
        "history = model.fit(trainX, trainy, validation_data=(testX, testy), epochs=500, verbose=0)\n",
        "_, train_acc = model.evaluate(trainX, trainy, verbose=0)\n",
        "_, test_acc = model.evaluate(testX, testy, verbose=0)\n",
        "print('Train: %.3f, Test: %.3f' % (train_acc, test_acc))\n",
        "\n",
        "pyplot.plot(history.history['accuracy'], label='train')\n",
        "pyplot.plot(history.history['val_accuracy'], label='test')\n",
        "pyplot.legend()\n",
        "pyplot.show()"
      ],
      "execution_count": 2,
      "outputs": [
        {
          "output_type": "stream",
          "text": [
            "Train: 0.810, Test: 0.812\n"
          ],
          "name": "stdout"
        },
        {
          "output_type": "display_data",
          "data": {
            "image/png": "[encoded data removed]",
            "text/plain": [
              "<Figure size 432x288 with 1 Axes>"
            ]
          },
          "metadata": {
            "tags": [],
            "needs_background": "light"
          }
        }
      ]
    },
    {
      "cell_type": "markdown",
      "metadata": {
        "id": "SY3FtFaZGb_2"
      },
      "source": [
        "### Model Averaging"
      ]
    },
    {
      "cell_type": "code",
      "metadata": {
        "id": "V1Bn_eCKGdxc"
      },
      "source": [
        "def FitModel(X_train, y_train, X_test, y_test):\n",
        "  model = Sequential()\n",
        "  model.add(Dense(25, input_dim=2, activation='relu'))\n",
        "  model.add(Dense(3, activation='softmax'))\n",
        "  model.compile(loss='categorical_crossentropy', optimizer='adam', metrics=['accuracy'])\n",
        "\n",
        "  model.fit(X_train, y_train, epochs=500, verbose=0)\n",
        "  _, test_acc = model.evaluate(X_test, y_test, verbose=0)\n",
        "\n",
        "  return test_acc"
      ],
      "execution_count": 6,
      "outputs": []
    },
    {
      "cell_type": "code",
      "metadata": {
        "colab": {
          "base_uri": "https://localhost:8080/",
          "height": 1000
        },
        "id": "EbESoVIOH4sk",
        "outputId": "3b708562-88fb-4cbb-ccc8-b8d3c6e6fde8"
      },
      "source": [
        "X, y = make_blobs(n_samples=500, centers=3, n_features=2, cluster_std=2, random_state=2)\n",
        "y_encoded = to_categorical(y)\n",
        "n_train = int(0.3 * X.shape[0])\n",
        "X_train, X_test = X[:n_train, :], X[n_train:, :]\n",
        "y_train, y_test = y_encoded[:n_train], y_encoded[n_train:]\n",
        "\n",
        "n_repeats = 30\n",
        "scores = []\n",
        "\n",
        "for _ in range(n_repeats):\n",
        "\tscore = FitModel(X_train, y_train, X_test, y_test)\n",
        "\tprint(f'> Score: {score}')\n",
        "\tscores.append(score)\n",
        "\n",
        "print(f'Scores Mean: {mean(scores)} Standard Deviation: {std(scores)}')\n",
        "\n",
        "pyplot.hist(scores, bins=10)\n",
        "pyplot.show()\n",
        "pyplot.boxplot(scores)\n",
        "pyplot.show()"
      ],
      "execution_count": 7,
      "outputs": [
        {
          "output_type": "stream",
          "text": [
            "> Score: 0.8199999928474426\n",
            "> Score: 0.8171428442001343\n",
            "> Score: 0.822857141494751\n",
            "> Score: 0.8114285469055176\n",
            "> Score: 0.8171428442001343\n",
            "> Score: 0.8171428442001343\n",
            "> Score: 0.8171428442001343\n",
            "> Score: 0.8142856955528259\n",
            "> Score: 0.8171428442001343\n",
            "> Score: 0.8199999928474426\n",
            "> Score: 0.8199999928474426\n",
            "> Score: 0.808571457862854\n",
            "> Score: 0.8257142901420593\n",
            "> Score: 0.8171428442001343\n",
            "> Score: 0.8142856955528259\n",
            "> Score: 0.8114285469055176\n",
            "> Score: 0.8142856955528259\n",
            "> Score: 0.822857141494751\n",
            "> Score: 0.8142856955528259\n",
            "> Score: 0.8171428442001343\n",
            "> Score: 0.8199999928474426\n",
            "> Score: 0.822857141494751\n",
            "> Score: 0.8142856955528259\n",
            "> Score: 0.8114285469055176\n",
            "> Score: 0.8171428442001343\n",
            "> Score: 0.822857141494751\n",
            "> Score: 0.8199999928474426\n",
            "> Score: 0.8199999928474426\n",
            "> Score: 0.8142856955528259\n",
            "> Score: 0.8171428442001343\n",
            "Scores Mean: 0.817333322763443 Standard Deviation: 0.003968130636704102\n"
          ],
          "name": "stdout"
        },
        {
          "output_type": "display_data",
          "data": {
            "image/png": "[encoded data removed]",
            "text/plain": [
              "<Figure size 432x288 with 1 Axes>"
            ]
          },
          "metadata": {
            "tags": [],
            "needs_background": "light"
          }
        },
        {
          "output_type": "display_data",
          "data": {
            "image/png": "[encoded data removed]",
            "text/plain": [
              "<Figure size 432x288 with 1 Axes>"
            ]
          },
          "metadata": {
            "tags": [],
            "needs_background": "light"
          }
        }
      ]
    },
    {
      "cell_type": "markdown",
      "metadata": {
        "id": "smoHaeRII9ww"
      },
      "source": [
        "### Model Averaging Ensemble"
      ]
    },
    {
      "cell_type": "code",
      "metadata": {
        "id": "VeiMYfEtIibI"
      },
      "source": [
        "def FitModel(X_train, y_train):\n",
        "  y_train_encoded = to_categorical(y_train)\n",
        "\n",
        "  model = Sequential()\n",
        "  model.add(Dense(25, input_dim=2, activation='relu'))\n",
        "  model.add(Dense(3, activation='softmax'))\n",
        "  model.compile(loss='categorical_crossentropy', optimizer='adam', metrics=['accuracy'])\n",
        "\n",
        "  model.fit(X_train, y_train_encoded, epochs=500, verbose=0)\n",
        "\n",
        "  return model"
      ],
      "execution_count": 8,
      "outputs": []
    },
    {
      "cell_type": "code",
      "metadata": {
        "id": "fmKNSHeCJXq4"
      },
      "source": [
        "def EnsemblePredictions(models, X_test):\n",
        "  prediction = [model.predict(X_test) for model in models]\n",
        "  prediction = array(prediction)\n",
        "  summed = numpy.sum(prediction, axis=0)\n",
        "  result = argmax(summed, axis=1)\n",
        "\n",
        "  return result"
      ],
      "execution_count": 9,
      "outputs": []
    },
    {
      "cell_type": "code",
      "metadata": {
        "id": "WLmrmvkvJYme"
      },
      "source": [
        "def EvaluateModels(models, n_members, X_test, y_test):\n",
        "  subset = models[:n_members]\n",
        "  prediction = EnsemblePredictions(subset, X_test)\n",
        "  accuracy = accuracy_score(y_test, prediction)\n",
        "\n",
        "  return accuracy"
      ],
      "execution_count": 10,
      "outputs": []
    },
    {
      "cell_type": "code",
      "metadata": {
        "colab": {
          "base_uri": "https://localhost:8080/",
          "height": 460
        },
        "id": "C80cuKGGJZhW",
        "outputId": "990db631-4c35-4cf9-dea6-2ed4e2a5ef60"
      },
      "source": [
        "X, y = make_blobs(n_samples=1100, centers=3, n_features=2, cluster_std=2, random_state=2)\n",
        "n_train = 100\n",
        "X_train, X_test = X[:n_train, :], X[n_train:, :]\n",
        "y_train, y_test = y[:n_train], y[n_train:]\n",
        "\n",
        "n_members = 10\n",
        "models = [FitModel(X_train, y_train) for _ in range(n_members)]\n",
        "single_scores = []\n",
        "ensemble_scores = []\n",
        "\n",
        "for i in range(1, len(models) + 1):\n",
        "  ensemble_score = EvaluateModels(models, i, X_test, y_test)\n",
        "  y_test_encoded = to_categorical(y_test)\n",
        "  _, single_score = models[i - 1].evaluate(X_test, y_test_encoded, verbose=0)\n",
        "  ensemble_scores.append(ensemble_score)\n",
        "  single_scores.append(single_score)\n",
        "  print(f'> {i}: Single: {single_score}, Ensemble: {ensemble_score}')\n",
        "\n",
        "print('Accuracy %.3f (%.3f)' % (mean(single_scores), std(single_scores)))\n",
        "x_axis = [i for i in range(1, len(models) + 1)]\n",
        "pyplot.plot(x_axis, single_scores, marker='o', linestyle='None')\n",
        "pyplot.plot(x_axis, ensemble_scores, marker='o')\n",
        "pyplot.show()"
      ],
      "execution_count": 11,
      "outputs": [
        {
          "output_type": "stream",
          "text": [
            "> 1: Single: 0.8040000200271606, Ensemble: 0.804\n",
            "> 2: Single: 0.8119999766349792, Ensemble: 0.805\n",
            "> 3: Single: 0.8130000233650208, Ensemble: 0.809\n",
            "> 4: Single: 0.8130000233650208, Ensemble: 0.809\n",
            "> 5: Single: 0.8119999766349792, Ensemble: 0.809\n",
            "> 6: Single: 0.8140000104904175, Ensemble: 0.811\n",
            "> 7: Single: 0.8069999814033508, Ensemble: 0.808\n",
            "> 8: Single: 0.8040000200271606, Ensemble: 0.81\n",
            "> 9: Single: 0.8040000200271606, Ensemble: 0.81\n",
            "> 10: Single: 0.8040000200271606, Ensemble: 0.81\n",
            "Accuracy 0.809 (0.004)\n"
          ],
          "name": "stdout"
        },
        {
          "output_type": "display_data",
          "data": {
            "image/png": "[encoded data removed]",
            "text/plain": [
              "<Figure size 432x288 with 1 Axes>"
            ]
          },
          "metadata": {
            "tags": [],
            "needs_background": "light"
          }
        }
      ]
    }
  ]
}