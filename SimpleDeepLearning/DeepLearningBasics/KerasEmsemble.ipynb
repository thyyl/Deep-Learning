{
  "nbformat": 4,
  "nbformat_minor": 0,
  "metadata": {
    "colab": {
      "name": "KerasEmsemble.ipynb",
      "provenance": []
    },
    "kernelspec": {
      "name": "python3",
      "display_name": "Python 3"
    },
    "language_info": {
      "name": "python"
    }
  },
  "cells": [
    {
      "cell_type": "code",
      "metadata": {
        "id": "C-Yh42wMK5yL"
      },
      "source": [
        "from sklearn.datasets import make_blobs\n",
        "from sklearn.linear_model import LogisticRegression\n",
        "from sklearn.metrics import accuracy_score\n",
        "\n",
        "from keras.utils import to_categorical\n",
        "from keras.utils import plot_model\n",
        "from keras.models import Sequential\n",
        "from keras.models import load_model\n",
        "from keras.models import Model\n",
        "from keras.layers import Dense\n",
        "from keras.layers.merge import concatenate\n",
        "\n",
        "from matplotlib import pyplot\n",
        "from os import makedirs\n",
        "from numpy import dstack\n",
        "from numpy import argmax"
      ],
      "execution_count": 87,
      "outputs": []
    },
    {
      "cell_type": "markdown",
      "metadata": {
        "id": "wOMkuyDVK5hy"
      },
      "source": [
        "### Based Line "
      ]
    },
    {
      "cell_type": "code",
      "metadata": {
        "colab": {
          "base_uri": "https://localhost:8080/",
          "height": 283
        },
        "id": "wdDXKnFRGnsd",
        "outputId": "44af7286-ad24-4827-d73d-b36137586567"
      },
      "source": [
        "X, y = make_blobs(n_samples=1100, centers=3, n_features=2, cluster_std=2, random_state=2)\n",
        "y = to_categorical(y)\n",
        "\n",
        "n_train = 100\n",
        "trainX, testX = X[:n_train, :], X[n_train:, :]\n",
        "trainy, testy = y[:n_train], y[n_train:]\n",
        "\n",
        "model = Sequential()\n",
        "model.add(Dense(25, input_dim=2, activation='relu'))\n",
        "model.add(Dense(3, activation='softmax'))\n",
        "model.compile(loss='categorical_crossentropy', optimizer='adam', metrics=['accuracy'])\n",
        "\n",
        "history = model.fit(trainX, trainy, validation_data=(testX, testy), epochs=500, verbose=0)\n",
        "_, train_acc = model.evaluate(trainX, trainy, verbose=0)\n",
        "_, test_acc = model.evaluate(testX, testy, verbose=0)\n",
        "print('Train: %.3f, Test: %.3f' % (train_acc, test_acc))\n",
        "\n",
        "pyplot.plot(history.history['accuracy'], label='train')\n",
        "pyplot.plot(history.history['val_accuracy'], label='test')\n",
        "pyplot.legend()\n",
        "pyplot.show()"
      ],
      "execution_count": 2,
      "outputs": [
        {
          "output_type": "stream",
          "text": [
            "Train: 0.830, Test: 0.804\n"
          ],
          "name": "stdout"
        },
        {
          "output_type": "display_data",
          "data": {
            "image/png": "[encoded data removed]",
            "text/plain": [
              "<Figure size 432x288 with 1 Axes>"
            ]
          },
          "metadata": {
            "tags": [],
            "needs_background": "light"
          }
        }
      ]
    },
    {
      "cell_type": "markdown",
      "metadata": {
        "id": "GD6pZbVsLkKB"
      },
      "source": [
        "### Stacked Generalization Ensemble"
      ]
    },
    {
      "cell_type": "code",
      "metadata": {
        "id": "wjvETtNOLlR9"
      },
      "source": [
        "def FitModel(X_train, y_train):\n",
        "  model = Sequential()\n",
        "  model.add(Dense(25, input_dim=2, activation='relu'))\n",
        "  model.add(Dense(3, activation='softmax'))\n",
        "  model.compile(loss='categorical_crossentropy', optimizer='adam', metrics=['accuracy'])\n",
        "  model.fit(X_train, y_train, epochs=500, verbose=0)\n",
        "  \n",
        "  return model"
      ],
      "execution_count": 48,
      "outputs": []
    },
    {
      "cell_type": "code",
      "metadata": {
        "id": "VGtYbChYL-pL"
      },
      "source": [
        "def CreateModelsDirectory(X_train, y_train):\n",
        "  makedirs('models')\n",
        "  n_members = 5\n",
        "\n",
        "  for i in range(n_members):\n",
        "    model = FitModel(X_train, y_train)\n",
        "    filename = 'models/model_' + str(i + 1) + '.h5'\n",
        "    model.save(filename)\n",
        "    print('>Saved %s' % filename)"
      ],
      "execution_count": 69,
      "outputs": []
    },
    {
      "cell_type": "code",
      "metadata": {
        "id": "1KK7Ct7EMsNL"
      },
      "source": [
        "def LoadModels(n_models):\n",
        "  models = list()\n",
        "\n",
        "  for i in range(n_models):\n",
        "    filename = 'models/model_' + str(i + 1) + '.h5'\n",
        "    model = load_model(filename)\n",
        "    models.append(model)\n",
        "  \n",
        "  return models"
      ],
      "execution_count": 57,
      "outputs": []
    },
    {
      "cell_type": "code",
      "metadata": {
        "id": "fqgOTOE0N5a4"
      },
      "source": [
        "def StackModel(models, inputX):\n",
        "  stackX = None\n",
        "  for model in models:\n",
        "    yhat = model.predict(inputX, verbose=0)\n",
        "\n",
        "    if stackX is None:\n",
        "      stackX = yhat\n",
        "    else:\n",
        "      stackX = dstack((stackX, yhat))\n",
        "\n",
        "  stackX = stackX.reshape((stackX.shape[0], stackX.shape[1] * stackX.shape[2]))\n",
        "  \n",
        "  return stackX"
      ],
      "execution_count": 58,
      "outputs": []
    },
    {
      "cell_type": "code",
      "metadata": {
        "id": "nv7LVKMXObQ-"
      },
      "source": [
        "def FitStackedModel(models, inputX, inputy):\n",
        "\tstackedX = StackModel(models, inputX)\n",
        "\tmodel = LogisticRegression()\n",
        "\tmodel.fit(stackedX, inputy)\n",
        "\treturn model"
      ],
      "execution_count": 59,
      "outputs": []
    },
    {
      "cell_type": "code",
      "metadata": {
        "id": "j0r7-TZeOr35"
      },
      "source": [
        "def StackedModelPrediction(models, model, inputX):\n",
        "\tstackedX = StackModel(models, inputX)\n",
        "\tyhat = model.predict(stackedX)\n",
        "\treturn yhat"
      ],
      "execution_count": 60,
      "outputs": []
    },
    {
      "cell_type": "code",
      "metadata": {
        "colab": {
          "base_uri": "https://localhost:8080/"
        },
        "id": "u5VmwyPuO-Bb",
        "outputId": "2d814797-7267-4a24-e4d6-f2bf18088be0"
      },
      "source": [
        "X, y = make_blobs(n_samples=1100, centers=3, n_features=2, cluster_std=2, random_state=2)\n",
        "n_train = 100\n",
        "X_train, X_test = X[:n_train, :], X[n_train:, :]\n",
        "y_train, y_test = y[:n_train], y[n_train:]\n",
        "y_train = to_categorical(y_train)\n",
        "\n",
        "CreateModelsDirectory(X_train, y_train)\n",
        "\n",
        "n_members = 5\n",
        "models = LoadModels(n_members)\n",
        "print('Loaded %d models' % len(models))\n",
        "\n",
        "for model in models:\n",
        "\ttesty_enc = to_categorical(y_test)\n",
        "\t_, acc = model.evaluate(X_test, testy_enc, verbose=0)\n",
        "\tprint('Model Accuracy: %.3f' % acc)\n",
        "\n",
        "model = FitStackedModel(models, X_test, y_test)\n",
        "yhat = StackedModelPrediction(models, model, X_test)\n",
        "acc = accuracy_score(y_test, yhat)\n",
        "print('Stacked Test Accuracy: %.3f' % acc)"
      ],
      "execution_count": 71,
      "outputs": [
        {
          "output_type": "stream",
          "text": [
            ">Saved models/model_1.h5\n",
            ">Saved models/model_2.h5\n",
            ">Saved models/model_3.h5\n",
            ">Saved models/model_4.h5\n",
            ">Saved models/model_5.h5\n",
            "Loaded 5 models\n",
            "Model Accuracy: 0.802\n",
            "Model Accuracy: 0.812\n",
            "Model Accuracy: 0.807\n",
            "Model Accuracy: 0.813\n",
            "Model Accuracy: 0.811\n",
            "Stacked Test Accuracy: 0.826\n"
          ],
          "name": "stdout"
        }
      ]
    },
    {
      "cell_type": "markdown",
      "metadata": {
        "id": "Q5XgJbTISN4h"
      },
      "source": [
        "### Integrated Stacking Model"
      ]
    },
    {
      "cell_type": "code",
      "metadata": {
        "id": "LYT8ap3hWjtJ"
      },
      "source": [
        "def DefineStackedModels(models):\n",
        "\tfor i in range(len(models)):\n",
        "\t\tmodel = models[i]\n",
        "\t\tfor layer in model.layers:\n",
        "\t\t\tlayer.trainable = False\n",
        "\t\t\tlayer._name = 'ensemble_' + str(i+1) + '_' + layer.name\n",
        "\n",
        "\tensemble_visible = [model.input for model in models]\n",
        "\tensemble_outputs = [model.output for model in models]\n",
        "\tmerge = concatenate(ensemble_outputs)\n",
        "\thidden = Dense(10, activation='relu')(merge)\n",
        "\toutput = Dense(3, activation='softmax')(hidden)\n",
        "\tmodel = Model(inputs=ensemble_visible, outputs=output)\n",
        "\n",
        "\tplot_model(model, show_shapes=True, to_file='model_graph.png')\n",
        "\tmodel.compile(loss='categorical_crossentropy', optimizer='adam', metrics=['accuracy'])\n",
        "\treturn model"
      ],
      "execution_count": 74,
      "outputs": []
    },
    {
      "cell_type": "code",
      "metadata": {
        "id": "TsFdiXrDXoiy"
      },
      "source": [
        "def FitStackedModel(model, inputX, inputy):\n",
        "\tX = [inputX for _ in range(len(model.input))]\n",
        "\tinputy_enc = to_categorical(inputy)\n",
        "\tmodel.fit(X, inputy_enc, epochs=300, verbose=0)"
      ],
      "execution_count": 75,
      "outputs": []
    },
    {
      "cell_type": "code",
      "metadata": {
        "id": "9jUanPHyXrjf"
      },
      "source": [
        "def PredictStackedModel(model, inputX):\n",
        "\tX = [inputX for _ in range(len(model.input))]\n",
        "\treturn model.predict(X, verbose=0)"
      ],
      "execution_count": 76,
      "outputs": []
    },
    {
      "cell_type": "code",
      "metadata": {
        "colab": {
          "base_uri": "https://localhost:8080/"
        },
        "id": "W_lJY1FxXwDk",
        "outputId": "e81e119b-4d1b-4dfd-def0-1243f9d5b6bf"
      },
      "source": [
        "X, y = make_blobs(n_samples=1100, centers=3, n_features=2, cluster_std=2, random_state=2)\n",
        "n_train = 100\n",
        "trainX, testX = X[:n_train, :], X[n_train:, :]\n",
        "trainy, testy = y[:n_train], y[n_train:]\n",
        "\n",
        "n_members = 5\n",
        "members = LoadModels(n_members)\n",
        "\n",
        "stacked_model = DefineStackedModels(members)\n",
        "FitStackedModel(stacked_model, testX, testy)\n",
        "yhat = PredictStackedModel(stacked_model, testX)\n",
        "yhat = argmax(yhat, axis=1)\n",
        "acc = accuracy_score(testy, yhat)\n",
        "print('Stacked Test Accuracy: %.3f' % acc)"
      ],
      "execution_count": 88,
      "outputs": [
        {
          "output_type": "stream",
          "text": [
            "Stacked Test Accuracy: 0.830\n"
          ],
          "name": "stdout"
        }
      ]
    }
  ]
}