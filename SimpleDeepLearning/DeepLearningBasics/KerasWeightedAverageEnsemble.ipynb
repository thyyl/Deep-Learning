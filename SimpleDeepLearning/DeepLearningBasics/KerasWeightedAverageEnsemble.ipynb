{
  "nbformat": 4,
  "nbformat_minor": 0,
  "metadata": {
    "colab": {
      "name": "KerasWeightedAverageEnsemble.ipynb",
      "provenance": [],
      "collapsed_sections": []
    },
    "kernelspec": {
      "name": "python3",
      "display_name": "Python 3"
    },
    "language_info": {
      "name": "python"
    }
  },
  "cells": [
    {
      "cell_type": "code",
      "metadata": {
        "id": "WG2RIkyiYbpc"
      },
      "source": [
        "from sklearn.datasets import make_blobs\n",
        "from sklearn.linear_model import LogisticRegression\n",
        "from sklearn.metrics import accuracy_score\n",
        "\n",
        "from keras.utils import to_categorical\n",
        "from keras.utils import plot_model\n",
        "from keras.models import Sequential\n",
        "from keras.models import load_model\n",
        "from keras.models import Model\n",
        "from keras.layers import Dense\n",
        "from keras.layers.merge import concatenate\n",
        "\n",
        "from matplotlib import pyplot\n",
        "from os import makedirs\n",
        "from numpy import dstack\n",
        "from numpy import argmax\n",
        "from numpy import array\n",
        "from numpy import mean\n",
        "from numpy import std\n",
        "import numpy\n",
        "from numpy import tensordot\n",
        "from numpy.linalg import norm\n",
        "from itertools import product\n",
        "from scipy.optimize import differential_evolution"
      ],
      "execution_count": 11,
      "outputs": []
    },
    {
      "cell_type": "markdown",
      "metadata": {
        "id": "gu716YF0YnS9"
      },
      "source": [
        "### Based Line "
      ]
    },
    {
      "cell_type": "code",
      "metadata": {
        "colab": {
          "base_uri": "https://localhost:8080/",
          "height": 283
        },
        "id": "kmPwIjxVYkFt",
        "outputId": "513f6d52-f134-42bb-f6f8-63f3e81be2fe"
      },
      "source": [
        "X, y = make_blobs(n_samples=1100, centers=3, n_features=2, cluster_std=2, random_state=2)\n",
        "y = to_categorical(y)\n",
        "\n",
        "n_train = 100\n",
        "trainX, testX = X[:n_train, :], X[n_train:, :]\n",
        "trainy, testy = y[:n_train], y[n_train:]\n",
        "\n",
        "model = Sequential()\n",
        "model.add(Dense(25, input_dim=2, activation='relu'))\n",
        "model.add(Dense(3, activation='softmax'))\n",
        "model.compile(loss='categorical_crossentropy', optimizer='adam', metrics=['accuracy'])\n",
        "\n",
        "history = model.fit(trainX, trainy, validation_data=(testX, testy), epochs=500, verbose=0)\n",
        "_, train_acc = model.evaluate(trainX, trainy, verbose=0)\n",
        "_, test_acc = model.evaluate(testX, testy, verbose=0)\n",
        "print('Train: %.3f, Test: %.3f' % (train_acc, test_acc))\n",
        "\n",
        "pyplot.plot(history.history['accuracy'], label='train')\n",
        "pyplot.plot(history.history['val_accuracy'], label='test')\n",
        "pyplot.legend()\n",
        "pyplot.show()"
      ],
      "execution_count": null,
      "outputs": [
        {
          "output_type": "stream",
          "text": [
            "Train: 0.840, Test: 0.807\n"
          ],
          "name": "stdout"
        },
        {
          "output_type": "display_data",
          "data": {
            "image/png": "[encoded data removed]",
            "text/plain": [
              "<Figure size 432x288 with 1 Axes>"
            ]
          },
          "metadata": {
            "tags": [],
            "needs_background": "light"
          }
        }
      ]
    },
    {
      "cell_type": "markdown",
      "metadata": {
        "id": "rYqoFQC1Y099"
      },
      "source": [
        "### Model Averaging Assemble"
      ]
    },
    {
      "cell_type": "code",
      "metadata": {
        "id": "qzEUGsQpYwnY"
      },
      "source": [
        "def FitModel(X_train, y_train):\n",
        "  y_train_encoded = to_categorical(y_train)\n",
        "\n",
        "  model = Sequential()\n",
        "  model.add(Dense(25, input_dim=2, activation='relu'))\n",
        "  model.add(Dense(3, activation='softmax'))\n",
        "  model.compile(loss='categorical_crossentropy', optimizer='adam', metrics=['accuracy'])\n",
        "\n",
        "  model.fit(X_train, y_train_encoded, epochs=500, verbose=0)\n",
        "\n",
        "  return model"
      ],
      "execution_count": 2,
      "outputs": []
    },
    {
      "cell_type": "code",
      "metadata": {
        "id": "0Y2Cy6E8ZksT"
      },
      "source": [
        "def EnsemblePredictions(models, X_test):\n",
        "  prediction = [model.predict(X_test) for model in models]\n",
        "  prediction = array(prediction)\n",
        "  summed = numpy.sum(prediction, axis=0)\n",
        "  result = argmax(summed, axis=1)\n",
        "\n",
        "  return result"
      ],
      "execution_count": 3,
      "outputs": []
    },
    {
      "cell_type": "code",
      "metadata": {
        "id": "MgtklqpGaQ3V"
      },
      "source": [
        "def EvaluateModels(models, n_members, X_test, y_test):\n",
        "  subset = models[:n_members]\n",
        "  prediction = EnsemblePredictions(subset, X_test)\n",
        "  accuracy = accuracy_score(y_test, prediction)\n",
        "\n",
        "  return accuracy"
      ],
      "execution_count": 4,
      "outputs": []
    },
    {
      "cell_type": "code",
      "metadata": {
        "colab": {
          "base_uri": "https://localhost:8080/",
          "height": 467
        },
        "id": "kZPF-q_aasnQ",
        "outputId": "dddfb775-6343-4923-8bb4-7be723b18347"
      },
      "source": [
        "X, y = make_blobs(n_samples=1100, centers=3, n_features=2, cluster_std=2, random_state=2)\n",
        "n_train = 100\n",
        "X_train, X_test = X[:n_train, :], X[n_train:, :]\n",
        "y_train, y_test = y[:n_train], y[n_train:]\n",
        "\n",
        "n_members = 10\n",
        "models = [FitModel(X_train, y_train) for _ in range(n_members)]\n",
        "single_scores = []\n",
        "ensemble_scores = []\n",
        "\n",
        "for i in range(1, len(models) + 1):\n",
        "  ensemble_score = EvaluateModels(models, i, X_test, y_test)\n",
        "  y_test_encoded = to_categorical(y_test)\n",
        "  _, single_score = models[i - 1].evaluate(X_test, y_test_encoded, verbose=0)\n",
        "  ensemble_scores.append(ensemble_score)\n",
        "  single_scores.append(single_score)\n",
        "  print(f'> {i}: Single: {single_score}, Ensemble: {ensemble_score}')\n",
        "\n",
        "print('Accuracy %.3f (%.3f)' % (mean(single_scores), std(single_scores)))\n",
        "x_axis = [i for i in range(1, len(models) + 1)]\n",
        "pyplot.plot(x_axis, single_scores, marker='o', linestyle='None')\n",
        "pyplot.plot(x_axis, ensemble_scores, marker='o')\n",
        "pyplot.show()"
      ],
      "execution_count": null,
      "outputs": [
        {
          "output_type": "stream",
          "text": [
            "> 1: Single: 0.8169999718666077, Ensemble: 0.817\n",
            "> 2: Single: 0.8119999766349792, Ensemble: 0.819\n",
            "> 3: Single: 0.8140000104904175, Ensemble: 0.819\n",
            "> 4: Single: 0.8080000281333923, Ensemble: 0.817\n",
            "> 5: Single: 0.8149999976158142, Ensemble: 0.815\n",
            "> 6: Single: 0.8080000281333923, Ensemble: 0.819\n",
            "> 7: Single: 0.8029999732971191, Ensemble: 0.817\n",
            "> 8: Single: 0.8130000233650208, Ensemble: 0.817\n",
            "> 9: Single: 0.8069999814033508, Ensemble: 0.818\n",
            "> 10: Single: 0.8059999942779541, Ensemble: 0.816\n",
            "Accuracy 0.810 (0.004)\n"
          ],
          "name": "stdout"
        },
        {
          "output_type": "display_data",
          "data": {
            "image/png": "[encoded data removed]",
            "text/plain": [
              "<Figure size 432x288 with 1 Axes>"
            ]
          },
          "metadata": {
            "tags": [],
            "needs_background": "light"
          }
        }
      ]
    },
    {
      "cell_type": "markdown",
      "metadata": {
        "id": "-ryLFFm5fSDS"
      },
      "source": [
        "### Grid Search Weighted Average Ensemble"
      ]
    },
    {
      "cell_type": "code",
      "metadata": {
        "id": "NMlqwLQmhFgn"
      },
      "source": [
        "def EnsemblePredictions(models, weights, X_test):\n",
        "  prediction = [model.predict(X_test) for model in models]\n",
        "  prediction = array(prediction)\n",
        "  summed = tensordot(prediction, weights, axes=((0),(0)))\n",
        "  result = argmax(summed, axis=1)\n",
        "\n",
        "  return result"
      ],
      "execution_count": 5,
      "outputs": []
    },
    {
      "cell_type": "code",
      "metadata": {
        "id": "IWGRxlsXh2PJ"
      },
      "source": [
        "def EvaluateModels(models, weights, X_test, y_test):\n",
        "  prediction = EnsemblePredictions(models, weights, X_test)\n",
        "  accuracy = accuracy_score(y_test, prediction)\n",
        "\n",
        "  return accuracy"
      ],
      "execution_count": 13,
      "outputs": []
    },
    {
      "cell_type": "code",
      "metadata": {
        "id": "AchxoMSPiNEF"
      },
      "source": [
        "def Normalized(weights):\n",
        "  result = norm(weights, 1)\n",
        "  return weights if result == 0.0 else (weights / result)"
      ],
      "execution_count": 7,
      "outputs": []
    },
    {
      "cell_type": "code",
      "metadata": {
        "id": "sSAGzciJilPh"
      },
      "source": [
        "def GridSearch(models, X_test, y_test):\n",
        "  weight = [0.0, 0.1, 0.2, 0.3, 0.4, 0.5, 0.6, 0.7, 0.8, 0.9, 1.0]\n",
        "  best_score, best_weights = 0.0, None\n",
        "\n",
        "  for weights in product(weight, repeat=len(models)):\n",
        "    if len(set(weights)) == 1:\n",
        "      continue\n",
        "    \n",
        "    weights = Normalized(weights)\n",
        "    score = EvaluateModels(models, weights, X_test, y_test)\n",
        "\n",
        "    if score > best_score:\n",
        "      best_score, best_weights = score, weights\n",
        "      print(f'Best Score: {best_score}, Best Weights: {best_weights}')\n",
        "\n",
        "  return list(best_weights)"
      ],
      "execution_count": 8,
      "outputs": []
    },
    {
      "cell_type": "code",
      "metadata": {
        "colab": {
          "base_uri": "https://localhost:8080/"
        },
        "id": "4ggHYvePjiQ1",
        "outputId": "642d7ba6-69b7-4c17-c845-f1e019d641b9"
      },
      "source": [
        "X, y = make_blobs(n_samples=1100, centers=3, n_features=2, cluster_std=2, random_state=2)\n",
        "n_train = 100\n",
        "X_train, X_test = X[:n_train, :], X[n_train:, :]\n",
        "y_train, y_test = y[:n_train], y[n_train:]\n",
        "\n",
        "n_members = 5\n",
        "models = [FitModel(X_train, y_train) for _ in range(n_members)]\n",
        "y_test_encoded = to_categorical(y_test)\n",
        "single_scores = []\n",
        "ensemble_scores = []\n",
        "\n",
        "for i in range(n_members):\n",
        "  _, test_accuracy = models[i].evaluate(X_test, y_test_encoded, verbose=0)\n",
        "  print(f'Model {i + 1}: {test_accuracy}')\n",
        "\n",
        "weights = [1.0 / n_members for _ in range(n_members)]\n",
        "score = EvaluateModels(models, weights, X_test, y_test)\n",
        "print(f'Equal Weights Score: {score}')\n",
        "\n",
        "weights = GridSearch(models, X_test, y_test)\n",
        "score = EvaluateModels(models, weights, X_test, y_test)\n",
        "print(f'Grid Search Weights: {weights}, Score: {score}')"
      ],
      "execution_count": null,
      "outputs": [
        {
          "output_type": "stream",
          "text": [
            "Model 1: 0.8109999895095825\n",
            "Model 2: 0.8130000233650208\n",
            "Model 3: 0.8220000267028809\n",
            "Model 4: 0.8069999814033508\n",
            "Model 5: 0.8069999814033508\n",
            "Equal Weights Score: 0.813\n",
            "Best Score: 0.807, Best Weights: [0. 0. 0. 0. 1.]\n",
            "Best Score: 0.809, Best Weights: [0.  0.  0.  0.5 0.5]\n",
            "Best Score: 0.811, Best Weights: [0.         0.         0.         0.33333333 0.66666667]\n",
            "Best Score: 0.822, Best Weights: [0. 0. 1. 0. 0.]\n"
          ],
          "name": "stdout"
        }
      ]
    },
    {
      "cell_type": "markdown",
      "metadata": {
        "id": "TFKjZfv-pTCK"
      },
      "source": [
        "### Alternative Weighted Average Ensemble"
      ]
    },
    {
      "cell_type": "code",
      "metadata": {
        "id": "tk779iPoneOb"
      },
      "source": [
        "def LossFunction(weights, models, X_test, y_test):\n",
        "  normalized = Normalized(weights)\n",
        "  error_rate = 1.0 - EvaluateModels(models, normalized, X_test, y_test)\n",
        "\n",
        "  return error_rate"
      ],
      "execution_count": 14,
      "outputs": []
    },
    {
      "cell_type": "code",
      "metadata": {
        "id": "bVI-1z8UqY2S",
        "colab": {
          "base_uri": "https://localhost:8080/"
        },
        "outputId": "a6550584-78d0-4501-e828-f4079b0c5c6a"
      },
      "source": [
        "X, y = make_blobs(n_samples=1100, centers=3, n_features=2, cluster_std=2, random_state=2)\n",
        "n_train = 100\n",
        "X_train, X_test = X[:n_train, :], X[n_train:, :]\n",
        "y_train, y_test = y[:n_train], y[n_train:]\n",
        "\n",
        "n_members = 5\n",
        "models = [FitModel(X_train, y_train) for _ in range(n_members)]\n",
        "y_test_encoded = to_categorical(y_test)\n",
        "single_scores = []\n",
        "ensemble_scores = []\n",
        "\n",
        "for i in range(n_members):\n",
        "  _, test_accuracy = models[i].evaluate(X_test, y_test_encoded, verbose=0)\n",
        "  print(f'Model {i + 1}: {test_accuracy}')\n",
        "\n",
        "weights = [1.0 / n_members for _ in range(n_members)]\n",
        "score = EvaluateModels(models, weights, X_test, y_test)\n",
        "print(f'Equal Weights Score: {score}')\n",
        "\n",
        "bound_w = [(0.0, 1.0)  for _ in range(n_members)]\n",
        "search_arg = (models, X_test, y_test)\n",
        "result = differential_evolution(LossFunction, bound_w, search_arg, maxiter=1000, tol=1e-7)\n",
        "weights = Normalized(result['x'])\n",
        "print(f'Optimized Weights: {weights}')\n",
        "\n",
        "score = EvaluateModels(models, weights, X_test, y_test)\n",
        "print(f'Optimized Weights Score: {weights}, Score: {score}')"
      ],
      "execution_count": 15,
      "outputs": [
        {
          "output_type": "stream",
          "text": [
            "Model 1: 0.8199999928474426\n",
            "Model 2: 0.8029999732971191\n",
            "Model 3: 0.8069999814033508\n",
            "Model 4: 0.8090000152587891\n",
            "Model 5: 0.8059999942779541\n",
            "Equal Weights Score: 0.809\n",
            "Optimized Weights: [0.28752185 0.01900983 0.33623126 0.02853035 0.3287067 ]\n",
            "Optimized Weights Score: [0.28752185 0.01900983 0.33623126 0.02853035 0.3287067 ], Score: 0.815\n"
          ],
          "name": "stdout"
        }
      ]
    }
  ]
}